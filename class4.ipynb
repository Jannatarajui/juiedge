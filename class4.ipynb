{
  "nbformat": 4,
  "nbformat_minor": 0,
  "metadata": {
    "colab": {
      "provenance": [],
      "mount_file_id": "1PErAQjZvh1Gnpk43-CsPvxzB_JmJB2ml",
      "authorship_tag": "ABX9TyPnOrFspisUbcp9BKWvdg5z",
      "include_colab_link": true
    },
    "kernelspec": {
      "name": "python3",
      "display_name": "Python 3"
    },
    "language_info": {
      "name": "python"
    }
  },
  "cells": [
    {
      "cell_type": "markdown",
      "metadata": {
        "id": "view-in-github",
        "colab_type": "text"
      },
      "source": [
        "<a href=\"https://colab.research.google.com/github/Jannatarajui/juiedge/blob/main/class4.ipynb\" target=\"_parent\"><img src=\"https://colab.research.google.com/assets/colab-badge.svg\" alt=\"Open In Colab\"/></a>"
      ]
    },
    {
      "cell_type": "code",
      "execution_count": 1,
      "metadata": {
        "colab": {
          "base_uri": "https://localhost:8080/"
        },
        "id": "qE3aivgUmibi",
        "outputId": "6b5cbcc2-05c7-4033-a4f5-fcfb7dbe6cda"
      },
      "outputs": [
        {
          "output_type": "stream",
          "name": "stdout",
          "text": [
            "5\n",
            "jui\n"
          ]
        }
      ],
      "source": [
        "x=5\n",
        "y=\"jui\"\n",
        "print(x)\n",
        "print(y)"
      ]
    },
    {
      "cell_type": "code",
      "source": [
        "def check_even_or_odd(number):\n",
        "    if number % 2 == 0:\n",
        "        return \"Even\"\n",
        "    else:\n",
        "        return \"Odd\"\n",
        "\n",
        "# Example usage:\n",
        "num = int(input(\"Enter a number: \"))\n",
        "result = check_even_or_odd(num)\n",
        "print(f\"The number {num} is {result}.\")"
      ],
      "metadata": {
        "colab": {
          "base_uri": "https://localhost:8080/"
        },
        "id": "5FXK-EYNp2LM",
        "outputId": "c033e09c-4b9c-4182-bccf-454196fd4001"
      },
      "execution_count": 12,
      "outputs": [
        {
          "output_type": "stream",
          "name": "stdout",
          "text": [
            "Enter a number: 56\n",
            "The number 56 is Even.\n"
          ]
        }
      ]
    },
    {
      "cell_type": "code",
      "source": [
        "x, y, z = \"Orange\", \"Banana\", \"Cherry\"\n",
        "print(x)\n",
        "print(y)\n",
        "print(z)"
      ],
      "metadata": {
        "colab": {
          "base_uri": "https://localhost:8080/"
        },
        "id": "jvS3hQ1Pvd23",
        "outputId": "1fbc0eed-435b-4b55-f55e-0655d3215731"
      },
      "execution_count": 8,
      "outputs": [
        {
          "output_type": "stream",
          "name": "stdout",
          "text": [
            "Orange\n",
            "Banana\n",
            "Cherry\n"
          ]
        }
      ]
    },
    {
      "cell_type": "code",
      "source": [],
      "metadata": {
        "id": "YiAwYXpFx7X3"
      },
      "execution_count": null,
      "outputs": []
    },
    {
      "cell_type": "code",
      "source": [
        "x = 4       # x is of type int\n",
        "x = \"Sally\" # x is now of type str\n",
        "print(x)\n"
      ],
      "metadata": {
        "colab": {
          "base_uri": "https://localhost:8080/"
        },
        "id": "ZayNoFyhnG7_",
        "outputId": "2cc597ba-c4b7-4621-d084-c41221feff9f"
      },
      "execution_count": 2,
      "outputs": [
        {
          "output_type": "stream",
          "name": "stdout",
          "text": [
            "Sally\n"
          ]
        }
      ]
    },
    {
      "cell_type": "code",
      "source": [
        "x = str(3)    # x will be '3'\n",
        "y = int(3)    # y will be 3\n",
        "z = float(3)  # z will be 3.0"
      ],
      "metadata": {
        "id": "5Fww5z0fsAOs"
      },
      "execution_count": 3,
      "outputs": []
    },
    {
      "cell_type": "code",
      "source": [
        "from google.colab import drive\n",
        "drive.mount('/content/drive')"
      ],
      "metadata": {
        "id": "uzQTeVSPms7a"
      },
      "execution_count": null,
      "outputs": []
    },
    {
      "cell_type": "code",
      "source": [
        "x=\"c\"\n",
        "y=\"d\"\n",
        "print(x+y)"
      ],
      "metadata": {
        "colab": {
          "base_uri": "https://localhost:8080/"
        },
        "id": "CjE9jvUgm4Wh",
        "outputId": "746f8a39-e4b7-4a2d-a4f9-3d0266d23b41"
      },
      "execution_count": 15,
      "outputs": [
        {
          "output_type": "stream",
          "name": "stdout",
          "text": [
            "cd\n"
          ]
        }
      ]
    },
    {
      "cell_type": "code",
      "source": [
        "name = \"John\"\n",
        "age = 36\n",
        "txt = \"His name is {} and he is {} years old\"\n",
        "print(txt.format(name, age)) #altenative way\n",
        "print(f'His name is {name} and he is {age} years old')"
      ],
      "metadata": {
        "colab": {
          "base_uri": "https://localhost:8080/"
        },
        "id": "AZWYaPPM0sPN",
        "outputId": "8f256823-6070-40ff-e7ca-13ea058dd76a"
      },
      "execution_count": 17,
      "outputs": [
        {
          "output_type": "stream",
          "name": "stdout",
          "text": [
            "His name is John and he is 36 years old\n",
            "His name is John and he is 36 years old\n"
          ]
        }
      ]
    },
    {
      "cell_type": "code",
      "source": [
        "name = \"kulcum\"\n",
        "age = 400\n",
        "txt = \"her name is {} and she is {} years old\"\n",
        "print(txt.format(name, age))"
      ],
      "metadata": {
        "colab": {
          "base_uri": "https://localhost:8080/"
        },
        "id": "ELEr2z_83inE",
        "outputId": "8f50efe7-0e3e-42f9-f41d-25d08b47d0e1"
      },
      "execution_count": 19,
      "outputs": [
        {
          "output_type": "stream",
          "name": "stdout",
          "text": [
            "her name is kulcum and she is 400 years old\n"
          ]
        }
      ]
    }
  ]
}